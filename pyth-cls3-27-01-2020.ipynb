{
 "cells": [
  {
   "cell_type": "markdown",
   "metadata": {},
   "source": [
    "# myth\n",
    "python not suitable for large scale enetrprise applications "
   ]
  },
  {
   "cell_type": "raw",
   "metadata": {},
   "source": [
    "# flavors of python\n",
    "1)cpython--->this python developed to work with c language based application\n",
    "2)Jython or jpython--->for java based application\n",
    "3)Ironpython---->csharp based application\n",
    "4)pypy--->internally python has jit(just in time)compiler because of which performance will be enhanced\n",
    "5)Rubypython-->ruby based application \n",
    "6)Anacondapython-->To handle bigdata we use anaconda python\n",
    "7)Stackless--->Pyhton for concurrency"
   ]
  },
  {
   "cell_type": "markdown",
   "metadata": {},
   "source": [
    "# Version of Python\n",
    "1)python 1.0 --->jan 1984\n",
    "2)python 2.0---->october 2000\n",
    "3)python 3.0------>dec 2008\n"
   ]
  },
  {
   "cell_type": "markdown",
   "metadata": {},
   "source": [
    "# Python 3.0 doesnt provide support for python 2.0"
   ]
  },
  {
   "cell_type": "raw",
   "metadata": {},
   "source": [
    "Print \"Hello\" valid in python 2.0 but invalid in python 3.0\n",
    "long data types not supported in python 3.0 "
   ]
  },
  {
   "cell_type": "markdown",
   "metadata": {},
   "source": [
    "# \n"
   ]
  }
 ],
 "metadata": {
  "kernelspec": {
   "display_name": "Python 3",
   "language": "python",
   "name": "python3"
  },
  "language_info": {
   "codemirror_mode": {
    "name": "ipython",
    "version": 3
   },
   "file_extension": ".py",
   "mimetype": "text/x-python",
   "name": "python",
   "nbconvert_exporter": "python",
   "pygments_lexer": "ipython3",
   "version": "3.7.4"
  }
 },
 "nbformat": 4,
 "nbformat_minor": 2
}
